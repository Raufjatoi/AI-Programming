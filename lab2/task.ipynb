{
 "cells": [
  {
   "cell_type": "markdown",
   "id": "a03b073f",
   "metadata": {},
   "source": [
    "# mean"
   ]
  },
  {
   "cell_type": "code",
   "execution_count": 1,
   "id": "77e649b9",
   "metadata": {},
   "outputs": [
    {
     "data": {
      "text/plain": [
       "10.333333333333334"
      ]
     },
     "execution_count": 1,
     "metadata": {},
     "output_type": "execute_result"
    }
   ],
   "source": [
    "import numpy as n \n",
    "\n",
    "numbers = [1,2,3,4,5,47]\n",
    "\n",
    "# mean \n",
    "n.mean(numbers)"
   ]
  },
  {
   "cell_type": "markdown",
   "id": "d3670cb4",
   "metadata": {},
   "source": [
    "## function that loop over counts by default it have 5 "
   ]
  },
  {
   "cell_type": "code",
   "execution_count": null,
   "id": "23bc0ea6",
   "metadata": {},
   "outputs": [
    {
     "name": "stdout",
     "output_type": "stream",
     "text": [
      "1\n",
      "2\n",
      "3\n",
      "4\n",
      "5\n",
      "6\n",
      "7\n",
      "8\n",
      "9\n",
      "10\n"
     ]
    }
   ],
   "source": [
    "def count(num=5):\n",
    "    for i in range(num):\n",
    "        print(i+1)\n",
    "\n",
    "count(10)"
   ]
  }
 ],
 "metadata": {
  "kernelspec": {
   "display_name": "Python 3",
   "language": "python",
   "name": "python3"
  },
  "language_info": {
   "codemirror_mode": {
    "name": "ipython",
    "version": 3
   },
   "file_extension": ".py",
   "mimetype": "text/x-python",
   "name": "python",
   "nbconvert_exporter": "python",
   "pygments_lexer": "ipython3",
   "version": "3.12.3"
  }
 },
 "nbformat": 4,
 "nbformat_minor": 5
}
