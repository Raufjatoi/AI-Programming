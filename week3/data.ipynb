{
 "cells": [
  {
   "cell_type": "markdown",
   "id": "438c81e6",
   "metadata": {},
   "source": [
    "## Reading csv data "
   ]
  },
  {
   "cell_type": "code",
   "execution_count": null,
   "metadata": {},
   "outputs": [],
   "source": [
    "import pandas as p \n",
    "\n",
    "data = p.read_csv(\"Salary.csv\")"
   ]
  },
  {
   "cell_type": "code",
   "execution_count": 3,
   "id": "2d8a9ea1",
   "metadata": {},
   "outputs": [
    {
     "data": {
      "text/html": [
       "<div>\n",
       "<style scoped>\n",
       "    .dataframe tbody tr th:only-of-type {\n",
       "        vertical-align: middle;\n",
       "    }\n",
       "\n",
       "    .dataframe tbody tr th {\n",
       "        vertical-align: top;\n",
       "    }\n",
       "\n",
       "    .dataframe thead th {\n",
       "        text-align: right;\n",
       "    }\n",
       "</style>\n",
       "<table border=\"1\" class=\"dataframe\">\n",
       "  <thead>\n",
       "    <tr style=\"text-align: right;\">\n",
       "      <th></th>\n",
       "      <th>Age</th>\n",
       "      <th>Gender</th>\n",
       "      <th>Education Level</th>\n",
       "      <th>Job Title</th>\n",
       "      <th>Years of Experience</th>\n",
       "      <th>Salary</th>\n",
       "    </tr>\n",
       "  </thead>\n",
       "  <tbody>\n",
       "    <tr>\n",
       "      <th>0</th>\n",
       "      <td>32.0</td>\n",
       "      <td>Male</td>\n",
       "      <td>Bachelor's</td>\n",
       "      <td>Software Engineer</td>\n",
       "      <td>5.0</td>\n",
       "      <td>90000.0</td>\n",
       "    </tr>\n",
       "    <tr>\n",
       "      <th>1</th>\n",
       "      <td>28.0</td>\n",
       "      <td>Female</td>\n",
       "      <td>Master's</td>\n",
       "      <td>Data Analyst</td>\n",
       "      <td>3.0</td>\n",
       "      <td>65000.0</td>\n",
       "    </tr>\n",
       "    <tr>\n",
       "      <th>2</th>\n",
       "      <td>45.0</td>\n",
       "      <td>Male</td>\n",
       "      <td>PhD</td>\n",
       "      <td>Senior Manager</td>\n",
       "      <td>15.0</td>\n",
       "      <td>150000.0</td>\n",
       "    </tr>\n",
       "    <tr>\n",
       "      <th>3</th>\n",
       "      <td>36.0</td>\n",
       "      <td>Female</td>\n",
       "      <td>Bachelor's</td>\n",
       "      <td>Sales Associate</td>\n",
       "      <td>7.0</td>\n",
       "      <td>60000.0</td>\n",
       "    </tr>\n",
       "    <tr>\n",
       "      <th>4</th>\n",
       "      <td>52.0</td>\n",
       "      <td>Male</td>\n",
       "      <td>Master's</td>\n",
       "      <td>Director</td>\n",
       "      <td>20.0</td>\n",
       "      <td>200000.0</td>\n",
       "    </tr>\n",
       "    <tr>\n",
       "      <th>...</th>\n",
       "      <td>...</td>\n",
       "      <td>...</td>\n",
       "      <td>...</td>\n",
       "      <td>...</td>\n",
       "      <td>...</td>\n",
       "      <td>...</td>\n",
       "    </tr>\n",
       "    <tr>\n",
       "      <th>370</th>\n",
       "      <td>35.0</td>\n",
       "      <td>Female</td>\n",
       "      <td>Bachelor's</td>\n",
       "      <td>Senior Marketing Analyst</td>\n",
       "      <td>8.0</td>\n",
       "      <td>85000.0</td>\n",
       "    </tr>\n",
       "    <tr>\n",
       "      <th>371</th>\n",
       "      <td>43.0</td>\n",
       "      <td>Male</td>\n",
       "      <td>Master's</td>\n",
       "      <td>Director of Operations</td>\n",
       "      <td>19.0</td>\n",
       "      <td>170000.0</td>\n",
       "    </tr>\n",
       "    <tr>\n",
       "      <th>372</th>\n",
       "      <td>29.0</td>\n",
       "      <td>Female</td>\n",
       "      <td>Bachelor's</td>\n",
       "      <td>Junior Project Manager</td>\n",
       "      <td>2.0</td>\n",
       "      <td>40000.0</td>\n",
       "    </tr>\n",
       "    <tr>\n",
       "      <th>373</th>\n",
       "      <td>34.0</td>\n",
       "      <td>Male</td>\n",
       "      <td>Bachelor's</td>\n",
       "      <td>Senior Operations Coordinator</td>\n",
       "      <td>7.0</td>\n",
       "      <td>90000.0</td>\n",
       "    </tr>\n",
       "    <tr>\n",
       "      <th>374</th>\n",
       "      <td>44.0</td>\n",
       "      <td>Female</td>\n",
       "      <td>PhD</td>\n",
       "      <td>Senior Business Analyst</td>\n",
       "      <td>15.0</td>\n",
       "      <td>150000.0</td>\n",
       "    </tr>\n",
       "  </tbody>\n",
       "</table>\n",
       "<p>375 rows × 6 columns</p>\n",
       "</div>"
      ],
      "text/plain": [
       "      Age  Gender Education Level                      Job Title  \\\n",
       "0    32.0    Male      Bachelor's              Software Engineer   \n",
       "1    28.0  Female        Master's                   Data Analyst   \n",
       "2    45.0    Male             PhD                 Senior Manager   \n",
       "3    36.0  Female      Bachelor's                Sales Associate   \n",
       "4    52.0    Male        Master's                       Director   \n",
       "..    ...     ...             ...                            ...   \n",
       "370  35.0  Female      Bachelor's       Senior Marketing Analyst   \n",
       "371  43.0    Male        Master's         Director of Operations   \n",
       "372  29.0  Female      Bachelor's         Junior Project Manager   \n",
       "373  34.0    Male      Bachelor's  Senior Operations Coordinator   \n",
       "374  44.0  Female             PhD        Senior Business Analyst   \n",
       "\n",
       "     Years of Experience    Salary  \n",
       "0                    5.0   90000.0  \n",
       "1                    3.0   65000.0  \n",
       "2                   15.0  150000.0  \n",
       "3                    7.0   60000.0  \n",
       "4                   20.0  200000.0  \n",
       "..                   ...       ...  \n",
       "370                  8.0   85000.0  \n",
       "371                 19.0  170000.0  \n",
       "372                  2.0   40000.0  \n",
       "373                  7.0   90000.0  \n",
       "374                 15.0  150000.0  \n",
       "\n",
       "[375 rows x 6 columns]"
      ]
     },
     "execution_count": 3,
     "metadata": {},
     "output_type": "execute_result"
    }
   ],
   "source": [
    "data"
   ]
  },
  {
   "cell_type": "code",
   "execution_count": 13,
   "id": "53bb4964",
   "metadata": {},
   "outputs": [
    {
     "name": "stdout",
     "output_type": "stream",
     "text": [
      "Basic Statistics by Education Level:\n",
      "                 Average Salary  Minimum Salary  Maximum Salary  Count\n",
      "Education Level                                                       \n",
      "Bachelor's             74756.03           350.0        250000.0    224\n",
      "Master's              129795.92         40000.0        200000.0     98\n",
      "PhD                   157843.14        110000.0        250000.0     51\n"
     ]
    }
   ],
   "source": [
    "education_stats = data.groupby('Education Level')['Salary'].agg([\n",
    "    ('Average Salary', 'mean'),\n",
    "    ('Minimum Salary', 'min'),\n",
    "    ('Maximum Salary', 'max'),\n",
    "    ('Count', 'count')\n",
    "]).round(2)\n",
    "\n",
    "print(\"Basic Statistics by Education Level:\")\n",
    "print(education_stats)"
   ]
  },
  {
   "cell_type": "code",
   "execution_count": 16,
   "id": "3d98e116",
   "metadata": {},
   "outputs": [
    {
     "name": "stdout",
     "output_type": "stream",
     "text": [
      "\n",
      "Highest Paid Person in Each Education Level:\n",
      "   Education Level                 Job Title    Salary  Years of Experience\n",
      "30      Bachelor's                       CEO  250000.0                 25.0\n",
      "4         Master's                  Director  200000.0                 20.0\n",
      "83             PhD  Chief Technology Officer  250000.0                 24.0\n"
     ]
    }
   ],
   "source": [
    "highest_paid = data.loc[data.groupby('Education Level')['Salary'].idxmax()]\n",
    "print(\"\\nHighest Paid Person in Each Education Level:\")\n",
    "print(highest_paid[['Education Level', 'Job Title', 'Salary', 'Years of Experience']])"
   ]
  },
  {
   "cell_type": "code",
   "execution_count": 17,
   "id": "e560d2c6",
   "metadata": {},
   "outputs": [
    {
     "name": "stdout",
     "output_type": "stream",
     "text": [
      "\n",
      "Median Salary by Education Level:\n",
      "Education Level\n",
      "Bachelor's     65000.0\n",
      "Master's      120000.0\n",
      "PhD           155000.0\n",
      "Name: Salary, dtype: float64\n"
     ]
    }
   ],
   "source": [
    "median_salary = data.groupby('Education Level')['Salary'].median()\n",
    "print(\"\\nMedian Salary by Education Level:\")\n",
    "print(median_salary)"
   ]
  },
  {
   "cell_type": "code",
   "execution_count": 22,
   "id": "2c669ccf",
   "metadata": {},
   "outputs": [
    {
     "name": "stdout",
     "output_type": "stream",
     "text": [
      "Basic Statistics by Education Level and Gender:\n",
      "                        Average Salary  Minimum Salary  Maximum Salary  Count\n",
      "Education Level Gender                                                       \n",
      "Bachelor's      Female        71019.42         35000.0        160000.0    103\n",
      "                Male          77936.78           350.0        250000.0    121\n",
      "Master's        Female       120200.00         40000.0        190000.0     50\n",
      "                Male         139791.67         75000.0        200000.0     48\n",
      "PhD             Female       155384.62        140000.0        185000.0     26\n",
      "                Male         160400.00        110000.0        250000.0     25\n"
     ]
    },
    {
     "data": {
      "text/plain": [
       "'\\n# If you want to see the gender pay gap within each education level\\ngender_gap = data.groupby(\\'Education Level\\').apply(\\n    lambda x: p.Series({\\n        \\'Male_Avg_Salary\\': x[x[\\'Gender\\'] == \\'Male\\'][\\'Salary\\'].mean(),\\n        \\'Female_Avg_Salary\\': x[x[\\'Gender\\'] == \\'Female\\'][\\'Salary\\'].mean(),\\n        \\'Gender_Gap\\': x[x[\\'Gender\\'] == \\'Male\\'][\\'Salary\\'].mean() - x[x[\\'Gender\\'] == \\'Female\\'][\\'Salary\\'].mean()\\n    })\\n).round(2)\\n\\nprint(\"\\nGender Pay Gap Analysis by Education Level:\")\\nprint(gender_gap)\\n'"
      ]
     },
     "execution_count": 22,
     "metadata": {},
     "output_type": "execute_result"
    }
   ],
   "source": [
    "# Group by both Education Level and Gender\n",
    "education_gender_stats = data.groupby(['Education Level', 'Gender'])['Salary'].agg([\n",
    "    ('Average Salary', 'mean'),\n",
    "    ('Minimum Salary', 'min'),\n",
    "    ('Maximum Salary', 'max'),\n",
    "    ('Count', 'count')\n",
    "]).round(2)\n",
    "\n",
    "print(\"Basic Statistics by Education Level and Gender:\")\n",
    "print(education_gender_stats)\n",
    "\n",
    "'''\n",
    "# If you want to see the gender pay gap within each education level\n",
    "gender_gap = data.groupby('Education Level').apply(\n",
    "    lambda x: p.Series({\n",
    "        'Male_Avg_Salary': x[x['Gender'] == 'Male']['Salary'].mean(),\n",
    "        'Female_Avg_Salary': x[x['Gender'] == 'Female']['Salary'].mean(),\n",
    "        'Gender_Gap': x[x['Gender'] == 'Male']['Salary'].mean() - x[x['Gender'] == 'Female']['Salary'].mean()\n",
    "    })\n",
    ").round(2)\n",
    "\n",
    "print(\"\\nGender Pay Gap Analysis by Education Level:\")\n",
    "print(gender_gap)\n",
    "'''"
   ]
  },
  {
   "cell_type": "code",
   "execution_count": 21,
   "id": "65d3f2a1",
   "metadata": {},
   "outputs": [
    {
     "ename": "ModuleNotFoundError",
     "evalue": "No module named 'plotly'",
     "output_type": "error",
     "traceback": [
      "\u001b[1;31m---------------------------------------------------------------------------\u001b[0m",
      "\u001b[1;31mModuleNotFoundError\u001b[0m                       Traceback (most recent call last)",
      "Cell \u001b[1;32mIn[21], line 2\u001b[0m\n\u001b[0;32m      1\u001b[0m \u001b[38;5;28;01mimport\u001b[39;00m \u001b[38;5;21;01mpandas\u001b[39;00m \u001b[38;5;28;01mas\u001b[39;00m \u001b[38;5;21;01mpd\u001b[39;00m\n\u001b[1;32m----> 2\u001b[0m \u001b[38;5;28;01mimport\u001b[39;00m \u001b[38;5;21;01mplotly\u001b[39;00m\u001b[38;5;21;01m.\u001b[39;00m\u001b[38;5;21;01mexpress\u001b[39;00m \u001b[38;5;28;01mas\u001b[39;00m \u001b[38;5;21;01mpx\u001b[39;00m\n\u001b[0;32m      3\u001b[0m \u001b[38;5;28;01mimport\u001b[39;00m \u001b[38;5;21;01mplotly\u001b[39;00m\u001b[38;5;21;01m.\u001b[39;00m\u001b[38;5;21;01mgraph_objects\u001b[39;00m \u001b[38;5;28;01mas\u001b[39;00m \u001b[38;5;21;01mgo\u001b[39;00m\n\u001b[0;32m      4\u001b[0m \u001b[38;5;28;01mfrom\u001b[39;00m \u001b[38;5;21;01mplotly\u001b[39;00m\u001b[38;5;21;01m.\u001b[39;00m\u001b[38;5;21;01msubplots\u001b[39;00m \u001b[38;5;28;01mimport\u001b[39;00m make_subplots\n",
      "\u001b[1;31mModuleNotFoundError\u001b[0m: No module named 'plotly'"
     ]
    }
   ],
   "source": [
    "import pandas as pd\n",
    "import plotly.express as px\n",
    "import plotly.graph_objects as go\n",
    "from plotly.subplots import make_subplots\n",
    "\n",
    "# 1. Interactive Box Plot\n",
    "fig1 = px.box(data, x='Education Level', y='Salary', \n",
    "              title='Salary Distribution by Education Level',\n",
    "              color='Education Level')\n",
    "fig1.show()\n",
    "\n",
    "# 2. Interactive Violin Plot\n",
    "fig2 = px.violin(data, x='Education Level', y='Salary',\n",
    "                 box=True, points=\"all\",\n",
    "                 title='Salary Distribution with Individual Points',\n",
    "                 color='Education Level')\n",
    "fig2.show()\n",
    "\n",
    "# 3. Scatter Plot: Salary vs Experience colored by Education\n",
    "fig3 = px.scatter(data, x='Years of Experience', y='Salary',\n",
    "                  color='Education Level',\n",
    "                  size='Salary',\n",
    "                  title='Salary vs Experience by Education Level',\n",
    "                  hover_data=['Job Title'])\n",
    "fig3.show()\n",
    "\n",
    "# 4. Combined Bar Chart\n",
    "avg_salary = data.groupby('Education Level')['Salary'].mean()\n",
    "max_salary = data.groupby('Education Level')['Salary'].max()\n",
    "\n",
    "fig4 = go.Figure(data=[\n",
    "    go.Bar(name='Average Salary', x=avg_salary.index, y=avg_salary.values),\n",
    "    go.Bar(name='Maximum Salary', x=max_salary.index, y=max_salary.values)\n",
    "])\n",
    "fig4.update_layout(title='Average vs Maximum Salary by Education Level',\n",
    "                  barmode='group')\n",
    "fig4.show()\n",
    "\n",
    "# 5. Sunburst Chart for Job Titles and Education\n",
    "fig5 = px.sunburst(data, path=['Education Level', 'Job Title'], values='Salary',\n",
    "                   title='Hierarchy of Salaries by Education and Job Title')\n",
    "fig5.show()"
   ]
  }
 ],
 "metadata": {
  "kernelspec": {
   "display_name": "Python 3",
   "language": "python",
   "name": "python3"
  },
  "language_info": {
   "codemirror_mode": {
    "name": "ipython",
    "version": 3
   },
   "file_extension": ".py",
   "mimetype": "text/x-python",
   "name": "python",
   "nbconvert_exporter": "python",
   "pygments_lexer": "ipython3",
   "version": "3.12.3"
  }
 },
 "nbformat": 4,
 "nbformat_minor": 5
}
