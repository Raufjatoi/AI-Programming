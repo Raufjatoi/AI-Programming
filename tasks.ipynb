{
 "cells": [
  {
   "cell_type": "markdown",
   "id": "df9bb6f3",
   "metadata": {},
   "source": [
    "# part 01 - 5 Simple Practical Tasks"
   ]
  },
  {
   "cell_type": "markdown",
   "id": "0e1afe81",
   "metadata": {},
   "source": [
    "### 1: create a Numpy array with value 1, 2, 3, 4"
   ]
  },
  {
   "cell_type": "code",
   "execution_count": null,
   "id": "7293960e",
   "metadata": {},
   "outputs": [],
   "source": [
    "import numpy as n"
   ]
  },
  {
   "cell_type": "code",
   "execution_count": null,
   "id": "47b845d7",
   "metadata": {},
   "outputs": [
    {
     "data": {
      "text/plain": [
       "array([1, 2, 3, 4, 5])"
      ]
     },
     "execution_count": 3,
     "metadata": {},
     "output_type": "execute_result"
    }
   ],
   "source": [
    "\n",
    "arr = n.array([1,2,3,4,5])\n",
    "arr\n"
   ]
  },
  {
   "cell_type": "markdown",
   "id": "c6d38c02",
   "metadata": {},
   "source": [
    "### 2: Create a 2D array with the values [[10,20],[30,40]]"
   ]
  },
  {
   "cell_type": "code",
   "execution_count": 5,
   "id": "67159b70",
   "metadata": {},
   "outputs": [
    {
     "data": {
      "text/plain": [
       "array([[10, 20],\n",
       "       [30, 40]])"
      ]
     },
     "execution_count": 5,
     "metadata": {},
     "output_type": "execute_result"
    }
   ],
   "source": [
    "arr2 = n.array([[10,20],[30,40]])\n",
    "arr2"
   ]
  },
  {
   "cell_type": "markdown",
   "id": "2776b68e",
   "metadata": {},
   "source": [
    "### 3: Create an array of 5 zeros using numpy "
   ]
  },
  {
   "cell_type": "code",
   "execution_count": 8,
   "id": "b2275ce7",
   "metadata": {},
   "outputs": [
    {
     "data": {
      "text/plain": [
       "array([0., 0., 0., 0., 0.])"
      ]
     },
     "execution_count": 8,
     "metadata": {},
     "output_type": "execute_result"
    }
   ],
   "source": [
    "# an array with 5 zeros using numpy \n",
    "zeros = n.zeros(5)\n",
    "zeros"
   ]
  },
  {
   "cell_type": "markdown",
   "id": "11ab77fc",
   "metadata": {},
   "source": [
    "### 4: Use np.arange() to create array from 0 to 9"
   ]
  },
  {
   "cell_type": "code",
   "execution_count": 11,
   "id": "44ffb968",
   "metadata": {},
   "outputs": [
    {
     "data": {
      "text/plain": [
       "array([0, 1, 2, 3, 4, 5, 6, 7, 8])"
      ]
     },
     "execution_count": 11,
     "metadata": {},
     "output_type": "execute_result"
    }
   ],
   "source": [
    "arr3 = n.arange(9)\n",
    "arr3 "
   ]
  },
  {
   "cell_type": "markdown",
   "id": "1840f28b",
   "metadata": {},
   "source": [
    "# part 2 - 5 Simple Questions "
   ]
  },
  {
   "cell_type": "markdown",
   "id": "6930194a",
   "metadata": {},
   "source": [
    "### Qno1 : What does np.reshape() do?\n",
    "\n",
    "### Ans: It changes the shape (dimensions) of a NumPy array without altering its underlying data. "
   ]
  },
  {
   "cell_type": "markdown",
   "id": "6863df64",
   "metadata": {},
   "source": [
    "### Qno2: Write code to flatten: [[1,2],[3,4]] "
   ]
  },
  {
   "cell_type": "code",
   "execution_count": 23,
   "id": "42e619e8",
   "metadata": {},
   "outputs": [
    {
     "name": "stdout",
     "output_type": "stream",
     "text": [
      "[1 2 3 4]\n"
     ]
    }
   ],
   "source": [
    "arr4 = n.array([[1,2],[3,4]])\n",
    "print(arr4.flatten())\n",
    "\n"
   ]
  },
  {
   "cell_type": "markdown",
   "id": "f3f40f41",
   "metadata": {},
   "source": [
    "### Qno3: Which function joins two arrays ?\n",
    "\n",
    "### Ans: np.concatenate()"
   ]
  },
  {
   "cell_type": "markdown",
   "id": "8b524894",
   "metadata": {},
   "source": [
    "### Qno4: Write code to get values greater than 10 from [5,15,20]\n"
   ]
  },
  {
   "cell_type": "code",
   "execution_count": 21,
   "id": "201ab96f",
   "metadata": {},
   "outputs": [
    {
     "name": "stdout",
     "output_type": "stream",
     "text": [
      "Original list: [5, 15, 20]\n",
      "List with elements greater than 10: [15, 20]\n"
     ]
    }
   ],
   "source": [
    "arr = [5,15,20]\n",
    "arrgreaterthan10 = [x for x in arr if x > 10]\n",
    "print(f\"Original list: {arr}\")\n",
    "print(f\"List with elements greater than 10: {arrgreaterthan10}\")"
   ]
  },
  {
   "cell_type": "markdown",
   "id": "958a9f8a",
   "metadata": {},
   "source": [
    "### Qno5: What does numpy.random.randint(1,5 size=3) do ?\n",
    "\n",
    "### Ans: It generates an array of 3 random integers, each between 1 (inclusive) and 5 (exclusive)."
   ]
  }
 ],
 "metadata": {
  "kernelspec": {
   "display_name": "Python 3",
   "language": "python",
   "name": "python3"
  },
  "language_info": {
   "codemirror_mode": {
    "name": "ipython",
    "version": 3
   },
   "file_extension": ".py",
   "mimetype": "text/x-python",
   "name": "python",
   "nbconvert_exporter": "python",
   "pygments_lexer": "ipython3",
   "version": "3.12.10"
  }
 },
 "nbformat": 4,
 "nbformat_minor": 5
}
