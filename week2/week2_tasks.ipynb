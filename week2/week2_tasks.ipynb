{
 "cells": [
  {
   "cell_type": "markdown",
   "id": "f1b54efe",
   "metadata": {},
   "source": [
    "# 1. List Access\n",
    "### Create a list of five fruits and print the third fruit from the list."
   ]
  },
  {
   "cell_type": "code",
   "execution_count": 1,
   "id": "142376e3",
   "metadata": {},
   "outputs": [
    {
     "name": "stdout",
     "output_type": "stream",
     "text": [
      "apple\n",
      "banana\n",
      "cherry\n",
      "date\n",
      "elderberry\n"
     ]
    }
   ],
   "source": [
    "fruits = [\"apple\", \"banana\", \"cherry\", \"date\", \"elderberry\"]\n",
    "\n",
    "for f in fruits:\n",
    "    print(f)\n"
   ]
  },
  {
   "cell_type": "markdown",
   "id": "7406719b",
   "metadata": {},
   "source": [
    "# 2. Tuple Unpacking\n",
    "### You are given a tuple with three values: name, age, and city. Unpack them into separate variables and print each."
   ]
  },
  {
   "cell_type": "code",
   "execution_count": 2,
   "id": "4c5a9307",
   "metadata": {},
   "outputs": [
    {
     "name": "stdout",
     "output_type": "stream",
     "text": [
      "Abdul Rauf\n",
      "21\n",
      "Nawabshah\n"
     ]
    }
   ],
   "source": [
    "t = (\"Abdul Rauf\" , 21 , \"Nawabshah\")\n",
    "\n",
    "# unpack into varibles \n",
    "name , age , city = t\n",
    "\n",
    "print(name)\n",
    "print(age)\n",
    "print(city)"
   ]
  },
  {
   "cell_type": "markdown",
   "id": "5e930b56",
   "metadata": {},
   "source": [
    "# 3. Modify String\n",
    "### Take  a  string  with  extra  spaces  and  mixed  case  letters.  Remove  the  spaces  and  convert  the  text  to lowercase"
   ]
  },
  {
   "cell_type": "code",
   "execution_count": 5,
   "id": "31043ba7",
   "metadata": {},
   "outputs": [
    {
     "name": "stdout",
     "output_type": "stream",
     "text": [
      "abdulraufjatoi\n"
     ]
    }
   ],
   "source": [
    "text = \"Abdul Rauf Jatoi\"\n",
    "\n",
    "print(text.replace(\" \", \"\").lower())"
   ]
  },
  {
   "cell_type": "markdown",
   "id": "51ef7b05",
   "metadata": {},
   "source": [
    "# 4. If-Else Statement\n",
    "### Write a program to check if a number is positive, negative, or zero"
   ]
  },
  {
   "cell_type": "code",
   "execution_count": 6,
   "id": "1408e6ee",
   "metadata": {},
   "outputs": [
    {
     "name": "stdout",
     "output_type": "stream",
     "text": [
      "Positive\n"
     ]
    }
   ],
   "source": [
    "num = int(input(\"Num: \"))\n",
    "\n",
    "if num == 0:\n",
    "    print(\"Zero\")\n",
    "elif num > 0:\n",
    "    print(\"Positive\")\n",
    "else:\n",
    "    print(\"Negative\")"
   ]
  },
  {
   "cell_type": "markdown",
   "id": "7f1f38cd",
   "metadata": {},
   "source": [
    "# 5. Create and Call a Function\n",
    "### Create a function that prints \"Hello, welcome to Python Lab!\" and call it."
   ]
  },
  {
   "cell_type": "code",
   "execution_count": 8,
   "id": "6c0151a4",
   "metadata": {},
   "outputs": [
    {
     "name": "stdout",
     "output_type": "stream",
     "text": [
      "Hello, welcome to Pythob Lab! \n"
     ]
    }
   ],
   "source": [
    "def hello():\n",
    "    print(\"Hello, welcome to Pythob Lab! \")\n",
    "\n",
    "hello()"
   ]
  },
  {
   "cell_type": "markdown",
   "id": "f2feb3d9",
   "metadata": {},
   "source": [
    "# 6. List Update\n",
    "### Create a list of student names. Change the second name to \"Ali\"."
   ]
  },
  {
   "cell_type": "code",
   "execution_count": 10,
   "id": "3a037eb4",
   "metadata": {},
   "outputs": [
    {
     "name": "stdout",
     "output_type": "stream",
     "text": [
      "['Rauf', 'Ali', 'Umar']\n"
     ]
    }
   ],
   "source": [
    "names = ['Rauf', 'Ahsan', 'Umar']\n",
    "names[1] = 'Ali'\n",
    "print(names)"
   ]
  },
  {
   "cell_type": "markdown",
   "id": "b18d6856",
   "metadata": {},
   "source": [
    "# 7. Reading List using Loops\n",
    "### Create a list of numbers and print each number multiplied by 2 using a loop"
   ]
  },
  {
   "cell_type": "code",
   "execution_count": 12,
   "id": "abe026a2",
   "metadata": {},
   "outputs": [
    {
     "name": "stdout",
     "output_type": "stream",
     "text": [
      "2\n",
      "4\n",
      "6\n",
      "8\n",
      "10\n"
     ]
    }
   ],
   "source": [
    "nums = [1,2,3,4,5]\n",
    "\n",
    "for i in nums:\n",
    "    print(i*2)"
   ]
  },
  {
   "cell_type": "markdown",
   "id": "db073d17",
   "metadata": {},
   "source": [
    "# 8. List Comprehension\n",
    "### Create a new list that contains the square of all even numbers from 1 to 10."
   ]
  },
  {
   "cell_type": "code",
   "execution_count": 13,
   "id": "a3ed0b75",
   "metadata": {},
   "outputs": [
    {
     "name": "stdout",
     "output_type": "stream",
     "text": [
      "[1, 4, 9, 16, 25, 36, 49, 64, 81, 100]\n"
     ]
    }
   ],
   "source": [
    "l = [1,2,3,4,5,6,7,8,9,10]\n",
    "n_l = []\n",
    "for i in l:\n",
    "    n_l.append(i*i)\n",
    "\n",
    "print(n_l)"
   ]
  },
  {
   "cell_type": "markdown",
   "id": "f4073d5f",
   "metadata": {},
   "source": [
    "# 9. Use of String Methods\n",
    "### Take a string sentence, replace the word \"bad\" with \"good\", and split the sentence into words.\n"
   ]
  },
  {
   "cell_type": "code",
   "execution_count": 15,
   "id": "dc00ac08",
   "metadata": {},
   "outputs": [
    {
     "name": "stdout",
     "output_type": "stream",
     "text": [
      "Im a good programmer\n",
      "['Im', 'a', 'good', 'programmer']\n"
     ]
    }
   ],
   "source": [
    "sen = \"Im a bad programmer\"\n",
    "\n",
    "n_sen = sen.replace(\"bad\", \"good\")\n",
    "\n",
    "print(n_sen)\n",
    "\n",
    "print(n_sen.split())"
   ]
  },
  {
   "cell_type": "markdown",
   "id": "ca74b4d9",
   "metadata": {},
   "source": [
    "# 10. Tuple Conversion and Update\n",
    "### Convert a tuple to a list, change one element, and convert it back to a tuple."
   ]
  },
  {
   "cell_type": "code",
   "execution_count": 24,
   "id": "01ad0fa3",
   "metadata": {},
   "outputs": [
    {
     "name": "stdout",
     "output_type": "stream",
     "text": [
      "<class 'list'>\n",
      "1\n",
      "((4, 5, 6),)\n",
      "<class 'tuple'>\n"
     ]
    }
   ],
   "source": [
    "t = (1,2,3)\n",
    "l = [t]\n",
    "print(type(l))\n",
    "print(len(l))\n",
    "\n",
    "l[0] = (4,5,6)\n",
    "\n",
    "n_t = tuple(l)\n",
    "print(n_t)\n",
    "print(type(n_t))"
   ]
  },
  {
   "cell_type": "markdown",
   "id": "bf6ad9df",
   "metadata": {},
   "source": [
    "# 11. Dictionary Manipulation\n",
    "### Create a dictionary with keys \"name\" and \"age\". Add a new key \"grade\" and change the value of \"age\""
   ]
  },
  {
   "cell_type": "code",
   "execution_count": 25,
   "id": "eff835fa",
   "metadata": {},
   "outputs": [
    {
     "name": "stdout",
     "output_type": "stream",
     "text": [
      "{'Name': 'Rauf', 'Age': 22, 'grade': '2nd Year BSAI'}\n"
     ]
    }
   ],
   "source": [
    "dic = {\"Name\": \"Rauf\", \"Age\": 21,}\n",
    "dic[\"grade\"] = \"2nd Year BSAI\"\n",
    "dic[\"Age\"] = 22\n",
    "print(dic)"
   ]
  },
  {
   "cell_type": "markdown",
   "id": "f4b99c91",
   "metadata": {},
   "source": [
    "# 12. If-Elif-Else with Logical Operator\n",
    "### Ask user for age and student status. If age > 18 and student is true, print \"Eligible\"."
   ]
  },
  {
   "cell_type": "code",
   "execution_count": 29,
   "id": "1b67d0cf",
   "metadata": {},
   "outputs": [
    {
     "name": "stdout",
     "output_type": "stream",
     "text": [
      "Eligible\n"
     ]
    }
   ],
   "source": [
    "age = int(input(\"Age: \"))\n",
    "student = input(\"Yes or No: \")\n",
    "student.lower()\n",
    "\n",
    "if age >= 18 and student in [\"yes\",\"yes \",\"ye\"]:\n",
    "    print(\"Eligible\")\n",
    "else:\n",
    "    print(\"Not Eligible\")"
   ]
  },
  {
   "cell_type": "markdown",
   "id": "d28847e2",
   "metadata": {},
   "source": [
    "# 13. Function with Default Parameter\n",
    "### Create  a  function  that  takes  a  name  and  prints  \"Welcome,  name!\".  If  no  name  is  given,  print  \"Welcome, Guest!\""
   ]
  },
  {
   "cell_type": "code",
   "execution_count": 31,
   "id": "e8794a75",
   "metadata": {},
   "outputs": [
    {
     "name": "stdout",
     "output_type": "stream",
     "text": [
      "Welcome Rauf\n",
      "Welcome Guest!\n"
     ]
    }
   ],
   "source": [
    "def greet(name=\"Guest!\"):\n",
    "    print(\"Welcome\", name)\n",
    "\n",
    "greet(\"Rauf\")\n",
    "greet()"
   ]
  },
  {
   "cell_type": "markdown",
   "id": "c80ef4c6",
   "metadata": {},
   "source": [
    "# 14. Passing List to Function\n",
    "### Write a function that accepts a list of numbers and prints the sum of all numbers."
   ]
  },
  {
   "cell_type": "code",
   "execution_count": 32,
   "id": "0ff2c675",
   "metadata": {},
   "outputs": [
    {
     "name": "stdout",
     "output_type": "stream",
     "text": [
      "15\n"
     ]
    }
   ],
   "source": [
    "def add(numbers):\n",
    "    sum = 0\n",
    "    for i in numbers:\n",
    "        sum += i\n",
    "    return sum\n",
    "\n",
    "print(add([1,2,3,4,5]))"
   ]
  },
  {
   "cell_type": "markdown",
   "id": "bcbd33ed",
   "metadata": {},
   "source": [
    "# 15. Use Escape Characters\n",
    "### Print a sentence that includes quotes, new line, and a tab space using escape characters."
   ]
  },
  {
   "cell_type": "code",
   "execution_count": 34,
   "id": "b0c18320",
   "metadata": {},
   "outputs": [
    {
     "name": "stdout",
     "output_type": "stream",
     "text": [
      "He said, \"Hello!\"\n",
      "\tHow are you?\n"
     ]
    }
   ],
   "source": [
    "sentence = \"He said, \\\"Hello!\\\"\\n\\tHow are you?\"\n",
    "\n",
    "print(sentence)"
   ]
  },
  {
   "cell_type": "markdown",
   "id": "3bec9ca0",
   "metadata": {},
   "source": [
    "# 16. Nested If with List and String\n",
    "### Create a list of 5 student names. If the name starts with \"A\", convert it to uppercase and print it."
   ]
  },
  {
   "cell_type": "code",
   "execution_count": 35,
   "id": "6c6f96cc",
   "metadata": {},
   "outputs": [
    {
     "name": "stdout",
     "output_type": "stream",
     "text": [
      "AHSAN\n",
      "ADIL\n"
     ]
    }
   ],
   "source": [
    "names = ['Rauf', 'Ahsan', 'Umar', \"Rehman\" , 'Adil' ]\n",
    "\n",
    "for name in names: \n",
    "    if name.startswith(\"A\"):\n",
    "        print(name.upper())"
   ]
  },
  {
   "cell_type": "markdown",
   "id": "1e40eaf8",
   "metadata": {},
   "source": [
    "# 17. Function Returning Dictionary\n",
    "### Create a function that takes name, age, and subject as arguments and returns them in a dictionary format."
   ]
  },
  {
   "cell_type": "code",
   "execution_count": null,
   "id": "75293298",
   "metadata": {},
   "outputs": [
    {
     "data": {
      "text/plain": [
       "{'Name': 'rauf', 'Age': 21, 'Subject': 'PAI'}"
      ]
     },
     "execution_count": 36,
     "metadata": {},
     "output_type": "execute_result"
    }
   ],
   "source": [
    "def todic(name , age , subject):\n",
    "    return {\"Name\": name, \"Age\": age, \"Subject\": subject}\n",
    "\n",
    "todic(\"rauf\", 21, 'PAI')"
   ]
  },
  {
   "cell_type": "markdown",
   "id": "9a174e7f",
   "metadata": {},
   "source": [
    "# 18. String Formatting and Conditional Check\n",
    "### Ask  user  to  enter  marks  of  3  subjects.  Use  a  function  to  calculate  average  and  print  a  formatted  message with grade using if-elif.\n"
   ]
  },
  {
   "cell_type": "code",
   "execution_count": 39,
   "id": "d62aa767",
   "metadata": {},
   "outputs": [
    {
     "name": "stdout",
     "output_type": "stream",
     "text": [
      "20.666666666666668\n"
     ]
    }
   ],
   "source": [
    "marks = []\n",
    "\n",
    "for i in range(3):\n",
    "    marks.append(int(input(\"Enter marks: \")))\n",
    "\n",
    "avg = sum(marks)/len(marks)\n",
    "\n",
    "print(avg)"
   ]
  },
  {
   "cell_type": "markdown",
   "id": "01f6d54c",
   "metadata": {},
   "source": [
    "# 19. Join Lists and Sort\n",
    "### Create two lists of numbers, merge them, sort the result in descending order, and print the final list."
   ]
  },
  {
   "cell_type": "code",
   "execution_count": 45,
   "id": "3d01a61f",
   "metadata": {},
   "outputs": [
    {
     "name": "stdout",
     "output_type": "stream",
     "text": [
      "[1, 2, 3, 4, 5, 6]\n",
      "[1, 2, 3, 4, 5, 6]\n"
     ]
    }
   ],
   "source": [
    "l1 = [1,2,3]\n",
    "l2 = [4,5,6]\n",
    "\n",
    "l3 = l1 + l2\n",
    "l3.sort()  \n",
    "print(l3)  \n",
    "\n",
    "l3 = sorted(l1 + l2)\n",
    "print(l3)"
   ]
  },
  {
   "cell_type": "markdown",
   "id": "f6a0aece",
   "metadata": {},
   "source": [
    "# 20. Function with List Comprehension & Return\n",
    "### Write a function that takes a list of numbers, removes all odd numbers using list comprehension, and returns the new list."
   ]
  },
  {
   "cell_type": "code",
   "execution_count": 47,
   "metadata": {},
   "outputs": [
    {
     "name": "stdout",
     "output_type": "stream",
     "text": [
      "1\n",
      "3\n",
      "5\n",
      "7\n",
      "9\n"
     ]
    }
   ],
   "source": [
    "l = [1,2,3,4,5,6,7,8,9,10]\n",
    "\n",
    "for i in l:\n",
    "    if i % 2 != 0: \n",
    "        print(i)"
   ]
  }
 ],
 "metadata": {
  "kernelspec": {
   "display_name": "Python 3",
   "language": "python",
   "name": "python3"
  },
  "language_info": {
   "codemirror_mode": {
    "name": "ipython",
    "version": 3
   },
   "file_extension": ".py",
   "mimetype": "text/x-python",
   "name": "python",
   "nbconvert_exporter": "python",
   "pygments_lexer": "ipython3",
   "version": "3.12.3"
  }
 },
 "nbformat": 4,
 "nbformat_minor": 5
}
