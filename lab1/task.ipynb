{
 "cells": [
  {
   "cell_type": "markdown",
   "id": "0a6efd4d",
   "metadata": {},
   "source": [
    "# function to sqr with add in it \n"
   ]
  },
  {
   "cell_type": "code",
   "execution_count": 1,
   "id": "3a6b19e2",
   "metadata": {},
   "outputs": [],
   "source": [
    "def add(num1 , num2):\n",
    "    return num1 + num2"
   ]
  },
  {
   "cell_type": "code",
   "execution_count": 2,
   "id": "d2659290",
   "metadata": {},
   "outputs": [],
   "source": [
    "def sqr (num1 , num2):\n",
    "    addnum = add(num1 , num2)\n",
    "    return addnum * addnum\n",
    "    \n",
    "   "
   ]
  },
  {
   "cell_type": "code",
   "execution_count": 4,
   "id": "35e05498",
   "metadata": {},
   "outputs": [
    {
     "data": {
      "text/plain": [
       "81"
      ]
     },
     "execution_count": 4,
     "metadata": {},
     "output_type": "execute_result"
    }
   ],
   "source": [
    "sqr(5,4)"
   ]
  }
 ],
 "metadata": {
  "kernelspec": {
   "display_name": "Python 3",
   "language": "python",
   "name": "python3"
  },
  "language_info": {
   "codemirror_mode": {
    "name": "ipython",
    "version": 3
   },
   "file_extension": ".py",
   "mimetype": "text/x-python",
   "name": "python",
   "nbconvert_exporter": "python",
   "pygments_lexer": "ipython3",
   "version": "3.12.3"
  }
 },
 "nbformat": 4,
 "nbformat_minor": 5
}
