{
 "cells": [
  {
   "cell_type": "markdown",
   "id": "ee746b38",
   "metadata": {},
   "source": [
    "## user contact \n"
   ]
  },
  {
   "cell_type": "code",
   "execution_count": 1,
   "id": "b6e8a24c",
   "metadata": {},
   "outputs": [
    {
     "name": "stdout",
     "output_type": "stream",
     "text": [
      "{'rauf': 3192479556}\n"
     ]
    }
   ],
   "source": [
    "contacts = {}\n",
    "\n",
    "num = int(input(\"Enter number of contacts: \"))\n",
    "\n",
    "for i in range(num):\n",
    "    name = input(\"Enter name: \")\n",
    "    phone = int(input(\"Enter phone number: \"))\n",
    "    contacts[name] = phone \n",
    "\n",
    "print(contacts)"
   ]
  }
 ],
 "metadata": {
  "kernelspec": {
   "display_name": "Python 3",
   "language": "python",
   "name": "python3"
  },
  "language_info": {
   "codemirror_mode": {
    "name": "ipython",
    "version": 3
   },
   "file_extension": ".py",
   "mimetype": "text/x-python",
   "name": "python",
   "nbconvert_exporter": "python",
   "pygments_lexer": "ipython3",
   "version": "3.12.3"
  }
 },
 "nbformat": 4,
 "nbformat_minor": 5
}
